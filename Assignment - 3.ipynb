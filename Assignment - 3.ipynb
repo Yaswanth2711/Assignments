{
 "cells": [
  {
   "cell_type": "markdown",
   "id": "d7a1558a-dfc0-483b-b3b8-498b1773a8b4",
   "metadata": {},
   "source": [
    "1. Why are functions advantageous to have in your programs?"
   ]
  },
  {
   "cell_type": "markdown",
   "id": "708094b5-1705-4522-a9e6-196fea596e8f",
   "metadata": {},
   "source": [
    "Ans: Functions will helps to reduce the code usage when it is using frequently, by storing the code in it. This will make the program in shorter and easier to use or update."
   ]
  },
  {
   "cell_type": "markdown",
   "id": "e3ce336d-922e-428c-a582-8a1e0f8288a0",
   "metadata": {},
   "source": [
    "--------------------"
   ]
  },
  {
   "cell_type": "markdown",
   "id": "870b7f47-9426-4dec-bb84-3ff5a4ad9e49",
   "metadata": {},
   "source": [
    "2. When does the code in a function run: when it&#39;s specified or when it&#39;s called?"
   ]
  },
  {
   "cell_type": "markdown",
   "id": "4daf86f9-8514-4c00-83c3-e0aeb4220785",
   "metadata": {},
   "source": [
    "Ans: The code in a function will get exexuted when it is called."
   ]
  },
  {
   "cell_type": "markdown",
   "id": "0039d647-170e-4bb2-9099-8d7e6b19c1a4",
   "metadata": {},
   "source": [
    "--------------------"
   ]
  },
  {
   "cell_type": "markdown",
   "id": "4aadacd3-430c-445f-93b5-e84c6aee2c01",
   "metadata": {},
   "source": [
    "3. What statement creates a function?"
   ]
  },
  {
   "cell_type": "markdown",
   "id": "7925de5a-fab5-405e-8045-5446afa392be",
   "metadata": {},
   "source": [
    "Using \"def\" statement, we can create a function."
   ]
  },
  {
   "cell_type": "markdown",
   "id": "0ae08ff8-8258-4600-a54c-7362529221bc",
   "metadata": {},
   "source": [
    "------------------------"
   ]
  },
  {
   "cell_type": "markdown",
   "id": "c9703d9a-2d2d-4f89-a4c9-9e05ded5bf78",
   "metadata": {},
   "source": [
    "4. What is the difference between a function and a function call?"
   ]
  },
  {
   "cell_type": "markdown",
   "id": "54ea64bc-bf29-4b5d-8fc5-b344f03896b9",
   "metadata": {},
   "source": [
    "Ans: Function consists of \"def\" statement and code in it. Ex: def test():\n",
    "\n",
    "    Function call means calling a function which consists of a code in it. Ex: test()"
   ]
  },
  {
   "cell_type": "markdown",
   "id": "8bce91b5-5b75-4a31-8e33-866b12501329",
   "metadata": {},
   "source": [
    "-----------------"
   ]
  },
  {
   "cell_type": "markdown",
   "id": "9ddabb45-5d1d-4c4b-929d-3ebf78458f4c",
   "metadata": {},
   "source": [
    "5. How many global scopes are there in a Python program? How many local scopes?"
   ]
  },
  {
   "cell_type": "markdown",
   "id": "f3785db0-0f5c-487f-80d2-1574f03df62b",
   "metadata": {},
   "source": [
    "Ans: There will be only one global scope per program execution, it will remains until the program terminates. There is a Local scope which is used by the functions."
   ]
  },
  {
   "cell_type": "markdown",
   "id": "7371e47c-97ac-4e97-864c-9cd271e88fb0",
   "metadata": {},
   "source": [
    "-----------------"
   ]
  },
  {
   "cell_type": "markdown",
   "id": "a6f3bd3e-eb1e-4b9e-8667-959cdfa22978",
   "metadata": {},
   "source": [
    "6. What happens to variables in a local scope when the function call returns?"
   ]
  },
  {
   "cell_type": "markdown",
   "id": "91661b3a-1872-4cdd-9b8d-9b84b837660d",
   "metadata": {},
   "source": [
    "Ans: Variables in local scope, will be used within the function only, when the function calls the variables in it will be forgotten"
   ]
  },
  {
   "cell_type": "markdown",
   "id": "39f3b595-f7a6-42b8-9822-7805047bb2de",
   "metadata": {},
   "source": [
    "---------------------------------------"
   ]
  },
  {
   "cell_type": "markdown",
   "id": "abf6bd43-f6ca-4962-bf5c-c6b8c7671a6e",
   "metadata": {},
   "source": [
    "7. What is the concept of a return value? Is it possible to have a return value in an expression?"
   ]
  },
  {
   "cell_type": "markdown",
   "id": "094846c1-17a3-4477-b4a1-8a0d98b34e59",
   "metadata": {},
   "source": [
    "Ans: Return value is like giving the output from a function execution. The return value can be possible in an expression "
   ]
  },
  {
   "cell_type": "markdown",
   "id": "99aadf8d-2366-47b0-a865-7921b5ec630e",
   "metadata": {},
   "source": [
    "---------------"
   ]
  },
  {
   "cell_type": "markdown",
   "id": "181aaf8a-fa62-41ce-baeb-9f3885d8e7d3",
   "metadata": {},
   "source": [
    "8. If a function does not have a return statement, what is the return value of a call to that function?"
   ]
  },
  {
   "cell_type": "markdown",
   "id": "7ea43452-1c65-45f6-a6da-c74c86f451a7",
   "metadata": {},
   "source": [
    "if a function doesn't have a return statment, the return value will be None by defualt"
   ]
  },
  {
   "cell_type": "markdown",
   "id": "8d7805a0-fa05-4df2-a098-9205bf8cee86",
   "metadata": {},
   "source": [
    "------------"
   ]
  },
  {
   "cell_type": "markdown",
   "id": "ae3b6bc0-b9fd-40fe-9d87-be36a48c88ae",
   "metadata": {},
   "source": [
    "9. How do you make a function variable refer to the global variable?"
   ]
  },
  {
   "cell_type": "markdown",
   "id": "5e36b7d7-8ade-4f52-bcb4-b2dbc2f9a41e",
   "metadata": {},
   "source": [
    "we can declare global to the variable inside the function"
   ]
  },
  {
   "cell_type": "markdown",
   "id": "0ee6454f-c271-49fc-8f6a-a8f5590a9f4d",
   "metadata": {},
   "source": [
    "---------------"
   ]
  },
  {
   "cell_type": "markdown",
   "id": "9659e01e-a9fa-44d6-9f5e-e8630c92ae4f",
   "metadata": {},
   "source": [
    "10. What is the data type of None?"
   ]
  },
  {
   "cell_type": "markdown",
   "id": "7e36146f-f24f-4721-84e6-1570715418c9",
   "metadata": {},
   "source": [
    "NoneType"
   ]
  },
  {
   "cell_type": "markdown",
   "id": "0ca11257-86e8-4c48-b5d2-b6e6ca8b4bda",
   "metadata": {},
   "source": [
    "---------------------"
   ]
  },
  {
   "cell_type": "markdown",
   "id": "186624e0-fb76-4ace-9033-5486a1f9b8e1",
   "metadata": {},
   "source": [
    "11. What does the sentence import areallyourpetsnamederic do?"
   ]
  },
  {
   "cell_type": "markdown",
   "id": "2ea07e2f-3ae7-4246-930b-7516a088e7c5",
   "metadata": {},
   "source": [
    "areallyourpetsnamederic is module name that is to being imported"
   ]
  },
  {
   "cell_type": "markdown",
   "id": "427d5775-75ab-4859-af70-9dcb981abf82",
   "metadata": {},
   "source": [
    "-----------------------------"
   ]
  },
  {
   "cell_type": "markdown",
   "id": "8c9ee518-831f-4859-9e0c-b2ab1c78ff13",
   "metadata": {},
   "source": [
    "12. If you had a bacon() feature in a spam module, what would you call it after importing spam?"
   ]
  },
  {
   "cell_type": "markdown",
   "id": "884b4874-52be-4df4-b8f5-bbefa9cde500",
   "metadata": {},
   "source": [
    "spam.bacon()"
   ]
  },
  {
   "cell_type": "markdown",
   "id": "b0918387-67b6-4a2d-8c59-47a1657d22f8",
   "metadata": {},
   "source": [
    "--------------------------------"
   ]
  },
  {
   "cell_type": "markdown",
   "id": "efd62834-3d2a-43ee-b5a1-4352859f3217",
   "metadata": {},
   "source": [
    "13. What can you do to save a programme from crashing if it encounters an error?"
   ]
  },
  {
   "cell_type": "markdown",
   "id": "e55fc660-db5f-4cb7-a66d-60787094976a",
   "metadata": {},
   "source": [
    "can you use try and except clause to prevent it from the crashing and redirects the errors to except clause"
   ]
  },
  {
   "cell_type": "markdown",
   "id": "ff58d2ff-917b-485c-9ce8-c8aab3c07d1a",
   "metadata": {},
   "source": [
    "---------------------------"
   ]
  },
  {
   "cell_type": "markdown",
   "id": "a0d667c3-843c-4a14-8fb9-cb6ef43eea89",
   "metadata": {},
   "source": [
    "14. What is the purpose of the try clause? What is the purpose of the except clause?"
   ]
  },
  {
   "cell_type": "markdown",
   "id": "6fb2f470-4b91-4f38-a1f5-72fc5dab3c1f",
   "metadata": {},
   "source": [
    "try block can be used for testing the errors, while except block can be used for error handling"
   ]
  },
  {
   "cell_type": "markdown",
   "id": "73cfff5e-4401-47df-a25e-6af7eca48c91",
   "metadata": {},
   "source": []
  }
 ],
 "metadata": {
  "kernelspec": {
   "display_name": "Python 3 (ipykernel)",
   "language": "python",
   "name": "python3"
  },
  "language_info": {
   "codemirror_mode": {
    "name": "ipython",
    "version": 3
   },
   "file_extension": ".py",
   "mimetype": "text/x-python",
   "name": "python",
   "nbconvert_exporter": "python",
   "pygments_lexer": "ipython3",
   "version": "3.12.4"
  }
 },
 "nbformat": 4,
 "nbformat_minor": 5
}
