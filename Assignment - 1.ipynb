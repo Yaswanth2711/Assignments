{
 "cells": [
  {
   "cell_type": "markdown",
   "metadata": {},
   "source": [
    "question-1:\n",
    "ans: 1) '*' is a mathematical operator.So it comes under expression.\n",
    "     2) 'hello' is a string.So it is a value\n",
    "     3) '-87.8' is a floating point number.It is a value.\n",
    "     4) '-' is a mathematical operator.So it is a expression.\n",
    "     5) '/' is a mathematical operator.So it is a expression.\n",
    "     6) '+' is a mathematical operator.So it is a expression.\n",
    "     7) '6' is a integer,so it is a value."
   ]
  },
  {
   "cell_type": "markdown",
   "metadata": {},
   "source": [
    "question-2:\n",
    "ans: Variable is used to identify or to store the values which is created or modified in a memory, there are some types of variables like string,integer,list,set,tuple,dictionary etc.,\n",
    "     String is one of the variable used to assign anything by using single qoute (' ') or double qoutes (\" \").\n",
    "     ex : a = 'my name is yash'"
   ]
  },
  {
   "cell_type": "markdown",
   "metadata": {},
   "source": [
    "question-3:\n",
    "ans: 1) String:\n",
    "          String is one of the variable used to assign characters by using single qoute (' ') or double qoutes (\" \").It is a immuttable.But we can perform only characters we can't use the integers in a string which means we can put integers but can't do any operations.we can see by ex:3.1.\n",
    "     2) List:\n",
    "          List is a immutable variable ,we can update in the variable whereas in string it is not able to update. In this we can identify or by using square brackets [].In this we can assign characters as well as integers and many. We can make string into a list but we cannot make a list into a string. Example:3.2.\n",
    "     3) Set:\n",
    "          Set is a collection of a list making as a unique elements by removing the duplicate elements.we can define it by identifying or by using flower brackets'{}'.Example:3.3."
   ]
  },
  {
   "cell_type": "code",
   "execution_count": 5,
   "metadata": {},
   "outputs": [],
   "source": [
    "a = 'my name is yash'\n",
    "# example 3.1"
   ]
  },
  {
   "cell_type": "code",
   "execution_count": 6,
   "metadata": {},
   "outputs": [
    {
     "data": {
      "text/plain": [
       "'my name is yash'"
      ]
     },
     "execution_count": 6,
     "metadata": {},
     "output_type": "execute_result"
    }
   ],
   "source": [
    "a\n",
    "# example 3.1"
   ]
  },
  {
   "cell_type": "code",
   "execution_count": 7,
   "metadata": {},
   "outputs": [
    {
     "data": {
      "text/plain": [
       "str"
      ]
     },
     "execution_count": 7,
     "metadata": {},
     "output_type": "execute_result"
    }
   ],
   "source": [
    "type(a)\n",
    "# example 3.1"
   ]
  },
  {
   "cell_type": "code",
   "execution_count": 8,
   "metadata": {},
   "outputs": [],
   "source": [
    "b = ['yash',12334,3+4j,True]\n",
    "# example 3.2"
   ]
  },
  {
   "cell_type": "code",
   "execution_count": 9,
   "metadata": {},
   "outputs": [
    {
     "data": {
      "text/plain": [
       "['yash', 12334, (3+4j), True]"
      ]
     },
     "execution_count": 9,
     "metadata": {},
     "output_type": "execute_result"
    }
   ],
   "source": [
    "b\n",
    "# example 3.2"
   ]
  },
  {
   "cell_type": "code",
   "execution_count": 10,
   "metadata": {},
   "outputs": [
    {
     "data": {
      "text/plain": [
       "list"
      ]
     },
     "execution_count": 10,
     "metadata": {},
     "output_type": "execute_result"
    }
   ],
   "source": [
    "type(b)\n",
    "# example 3.2"
   ]
  },
  {
   "cell_type": "code",
   "execution_count": 11,
   "metadata": {},
   "outputs": [],
   "source": [
    "c = {1,2,3,3,3,3,4,5,5,5,66,7,8,9,9,9,4,4,5,6,1,2,3,5,45}\n",
    "# example 3.3"
   ]
  },
  {
   "cell_type": "code",
   "execution_count": 12,
   "metadata": {},
   "outputs": [
    {
     "data": {
      "text/plain": [
       "{1, 2, 3, 4, 5, 6, 7, 8, 9, 45, 66}"
      ]
     },
     "execution_count": 12,
     "metadata": {},
     "output_type": "execute_result"
    }
   ],
   "source": [
    "c\n",
    "# example 3.3"
   ]
  },
  {
   "cell_type": "code",
   "execution_count": 13,
   "metadata": {},
   "outputs": [
    {
     "data": {
      "text/plain": [
       "set"
      ]
     },
     "execution_count": 13,
     "metadata": {},
     "output_type": "execute_result"
    }
   ],
   "source": [
    "type(c)\n",
    "# example 3.3"
   ]
  },
  {
   "cell_type": "markdown",
   "metadata": {},
   "source": [
    "question-4 :\n",
    "ans : Expressions are representation of the values.It gives definition of the code for which operation it has to done on the combination of values and variables.Some of the expression operators which are mostly used are :\n",
    "    1) Addition(+) : to add the values or variables.\n",
    "    2) Subtraction(-) : to subtract the values or variable.\n",
    "    3) Division(/) : to divide the values or variable.\n",
    "    4) Multiplication(*) : to multiply the values or variable.\n",
    "    5) Relation expressions : <,=<,>=,>.\n",
    "    6) Parenthesis : (),{},[]."
   ]
  },
  {
   "cell_type": "code",
   "execution_count": null,
   "metadata": {},
   "outputs": [],
   "source": [
    "#Question-5 : \n",
    "ans : spam = 10\n",
    "    # The above one is known as Expression ,combination of values,variables and operators makes the expression.While for the statement we can say the instructions which are given to a interpreter to execute code known as statement.  "
   ]
  },
  {
   "cell_type": "code",
   "execution_count": 10,
   "metadata": {},
   "outputs": [
    {
     "name": "stdout",
     "output_type": "stream",
     "text": [
      "spamspamspam\n",
      "spamspamspam\n"
     ]
    }
   ],
   "source": [
    "# Question-7.ans :\n",
    "x = 'spam'+'spamspam'\n",
    "y = 'spam'*3\n",
    "print(x)\n",
    "print(y)"
   ]
  },
  {
   "cell_type": "code",
   "execution_count": 11,
   "metadata": {},
   "outputs": [],
   "source": [
    "# Question-8.ans:\n",
    "#Python variable has certain conditions which the variables should be alphabets(either upper and lower case),digits,underscore symbol.Variables should not start with digits.\n",
    "# That's why eggs is valid variable and 100 is invalid variable."
   ]
  },
  {
   "cell_type": "code",
   "execution_count": 12,
   "metadata": {},
   "outputs": [
    {
     "data": {
      "text/plain": [
       "''"
      ]
     },
     "execution_count": 12,
     "metadata": {},
     "output_type": "execute_result"
    }
   ],
   "source": [
    "# Question-9.ans:\n",
    "int()\n",
    "float()\n",
    "str()\n",
    "# these can be used a functions."
   ]
  },
  {
   "cell_type": "code",
   "execution_count": 15,
   "metadata": {},
   "outputs": [
    {
     "name": "stdout",
     "output_type": "stream",
     "text": [
      "i have eaten 99 buritos\n",
      "i have eaten 99 buritos\n"
     ]
    }
   ],
   "source": [
    "# Question-10.ans:\n",
    "# For the given expression : 'i have eaten'+99+'buritos' gives error due to 99 is an integer and strings can only concatenated with the other string while using the addition operator.Inorder to fix it , we have to change the 99 as a string by two methods:\n",
    "x = 'i have eaten'+ ' 99 ' +'buritos'\n",
    "y = 'i have eaten '+ str(99) + ' buritos'\n",
    "print(x)\n",
    "print(y)"
   ]
  },
  {
   "cell_type": "code",
   "execution_count": 16,
   "metadata": {},
   "outputs": [
    {
     "data": {
      "text/plain": [
       "23"
      ]
     },
     "execution_count": 16,
     "metadata": {},
     "output_type": "execute_result"
    }
   ],
   "source": [
    "# Question-6.ans:\n",
    "bacon = 22\n",
    "bacon + 1"
   ]
  },
  {
   "cell_type": "code",
   "execution_count": 17,
   "metadata": {},
   "outputs": [
    {
     "data": {
      "text/plain": [
       "22"
      ]
     },
     "execution_count": 17,
     "metadata": {},
     "output_type": "execute_result"
    }
   ],
   "source": [
    "bacon\n",
    "# it shows the same old value ,it doesn't shows new executed code output while assign the bacon."
   ]
  }
 ],
 "metadata": {
  "kernelspec": {
   "display_name": "Python 3",
   "language": "python",
   "name": "python3"
  },
  "language_info": {
   "codemirror_mode": {
    "name": "ipython",
    "version": 3
   },
   "file_extension": ".py",
   "mimetype": "text/x-python",
   "name": "python",
   "nbconvert_exporter": "python",
   "pygments_lexer": "ipython3",
   "version": "3.8.3"
  }
 },
 "nbformat": 4,
 "nbformat_minor": 4
}
