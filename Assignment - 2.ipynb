{
 "cells": [
  {
   "cell_type": "markdown",
   "id": "035bd3d4-04fe-4f0d-a866-1b5dbbd9c2dd",
   "metadata": {},
   "source": [
    "1. What are the two values of the Boolean data type? How do you write them?"
   ]
  },
  {
   "cell_type": "raw",
   "id": "496558af-5af1-4855-ada1-71db6348781f",
   "metadata": {},
   "source": [
    "Ans: True and False are the Two Boolean data types. It can be written as capitalize words like \"True\" and \"False\"."
   ]
  },
  {
   "cell_type": "markdown",
   "id": "eadad800-76ec-4647-8020-18732b2d2049",
   "metadata": {},
   "source": [
    "---------------------------------------"
   ]
  },
  {
   "cell_type": "markdown",
   "id": "9d1be72d-c697-4617-a160-5d9c324bbd76",
   "metadata": {},
   "source": [
    "2. What are the three different types of Boolean operators?"
   ]
  },
  {
   "cell_type": "raw",
   "id": "2d804a4b-cdc7-4fca-b5ee-8400e494f2ca",
   "metadata": {},
   "source": [
    "Ans: Type of Boolean operators:\n",
    "        1) and\n",
    "        2) or\n",
    "        3) not"
   ]
  },
  {
   "cell_type": "markdown",
   "id": "882ce5e9-47e1-40ca-9ab4-bd6a1ff27b4d",
   "metadata": {},
   "source": [
    "-----------------------------------------"
   ]
  },
  {
   "cell_type": "markdown",
   "id": "bc42c51e-dfd1-4b3b-85d2-d989d19b25ab",
   "metadata": {},
   "source": [
    "3. Make a list of each Boolean operator&#39;s truth tables (i.e. every possible combination of Boolean\n",
    "values for the operator and what it evaluate )."
   ]
  },
  {
   "cell_type": "raw",
   "id": "a06fb16a-405e-4a86-b4de-26bfcfa087d7",
   "metadata": {},
   "source": [
    "Ans: Please find the below boolean operators combination:"
   ]
  },
  {
   "cell_type": "code",
   "execution_count": 23,
   "id": "6bedcc08-9e62-49b8-b85a-c79c90d32be9",
   "metadata": {},
   "outputs": [
    {
     "data": {
      "text/plain": [
       "True"
      ]
     },
     "execution_count": 23,
     "metadata": {},
     "output_type": "execute_result"
    }
   ],
   "source": [
    "True and True"
   ]
  },
  {
   "cell_type": "code",
   "execution_count": 25,
   "id": "cd727ecc-5c24-4008-b2e0-fde990991ba4",
   "metadata": {},
   "outputs": [
    {
     "data": {
      "text/plain": [
       "False"
      ]
     },
     "execution_count": 25,
     "metadata": {},
     "output_type": "execute_result"
    }
   ],
   "source": [
    "True and False"
   ]
  },
  {
   "cell_type": "code",
   "execution_count": 27,
   "id": "04681528-0939-471b-8031-d41b0d85cc25",
   "metadata": {},
   "outputs": [
    {
     "data": {
      "text/plain": [
       "False"
      ]
     },
     "execution_count": 27,
     "metadata": {},
     "output_type": "execute_result"
    }
   ],
   "source": [
    "False and True"
   ]
  },
  {
   "cell_type": "code",
   "execution_count": 31,
   "id": "3cadab99-9d50-4e22-a5da-8742bf619799",
   "metadata": {},
   "outputs": [
    {
     "data": {
      "text/plain": [
       "False"
      ]
     },
     "execution_count": 31,
     "metadata": {},
     "output_type": "execute_result"
    }
   ],
   "source": [
    "False and False"
   ]
  },
  {
   "cell_type": "code",
   "execution_count": 33,
   "id": "40458c21-f2dc-4a48-916d-08c4b2e8d99b",
   "metadata": {},
   "outputs": [
    {
     "data": {
      "text/plain": [
       "True"
      ]
     },
     "execution_count": 33,
     "metadata": {},
     "output_type": "execute_result"
    }
   ],
   "source": [
    "True or True"
   ]
  },
  {
   "cell_type": "code",
   "execution_count": 35,
   "id": "74c6d1e0-9b0a-4303-b6fa-b436e92cd39c",
   "metadata": {},
   "outputs": [
    {
     "data": {
      "text/plain": [
       "True"
      ]
     },
     "execution_count": 35,
     "metadata": {},
     "output_type": "execute_result"
    }
   ],
   "source": [
    "True or False"
   ]
  },
  {
   "cell_type": "code",
   "execution_count": 37,
   "id": "3485a588-f847-40d4-be0e-a2efbd4cf529",
   "metadata": {},
   "outputs": [
    {
     "data": {
      "text/plain": [
       "True"
      ]
     },
     "execution_count": 37,
     "metadata": {},
     "output_type": "execute_result"
    }
   ],
   "source": [
    "False or True"
   ]
  },
  {
   "cell_type": "code",
   "execution_count": 39,
   "id": "0b8d331f-5f74-4a2d-93c6-bc55ab04d217",
   "metadata": {},
   "outputs": [
    {
     "data": {
      "text/plain": [
       "False"
      ]
     },
     "execution_count": 39,
     "metadata": {},
     "output_type": "execute_result"
    }
   ],
   "source": [
    "False or False"
   ]
  },
  {
   "cell_type": "code",
   "execution_count": 41,
   "id": "066a39a9-5234-4453-8384-11171170999c",
   "metadata": {},
   "outputs": [
    {
     "data": {
      "text/plain": [
       "False"
      ]
     },
     "execution_count": 41,
     "metadata": {},
     "output_type": "execute_result"
    }
   ],
   "source": [
    "not True"
   ]
  },
  {
   "cell_type": "code",
   "execution_count": 43,
   "id": "edb16c02-f06e-465d-90b3-facecfabf01b",
   "metadata": {},
   "outputs": [
    {
     "data": {
      "text/plain": [
       "True"
      ]
     },
     "execution_count": 43,
     "metadata": {},
     "output_type": "execute_result"
    }
   ],
   "source": [
    "not False"
   ]
  },
  {
   "cell_type": "markdown",
   "id": "a2d924fb-c61e-4f37-be3b-301b23b56540",
   "metadata": {},
   "source": [
    "-----------------------------"
   ]
  },
  {
   "cell_type": "markdown",
   "id": "45d293e6-55b3-4f50-9228-381845d037cf",
   "metadata": {},
   "source": [
    "4. What are the values of the following expressions?\n",
    "(5 &gt; 4) and (3 == 5)\n",
    "not (5 &gt; 4)\n",
    "(5 &gt; 4) or (3 == 5)\n",
    "not ((5 &gt; 4) or (3 == 5))\n",
    "(True and True) and (True == False)\n",
    "(not False) or (not True)"
   ]
  },
  {
   "cell_type": "raw",
   "id": "3246397c-dc8a-4e56-9d88-e5b68771b9f5",
   "metadata": {},
   "source": [
    "Ans: Please find below answers for the above questions:"
   ]
  },
  {
   "cell_type": "code",
   "execution_count": 47,
   "id": "fc41284b-cddc-4e27-9b57-ebaddef1311b",
   "metadata": {},
   "outputs": [
    {
     "data": {
      "text/plain": [
       "False"
      ]
     },
     "execution_count": 47,
     "metadata": {},
     "output_type": "execute_result"
    }
   ],
   "source": [
    "(5 > 4) and (3 == 5)"
   ]
  },
  {
   "cell_type": "code",
   "execution_count": 49,
   "id": "e9c70795-750c-48d1-8f18-7a6ee41804a0",
   "metadata": {},
   "outputs": [
    {
     "data": {
      "text/plain": [
       "False"
      ]
     },
     "execution_count": 49,
     "metadata": {},
     "output_type": "execute_result"
    }
   ],
   "source": [
    "not (5 > 4)"
   ]
  },
  {
   "cell_type": "code",
   "execution_count": 51,
   "id": "561e4950-8cc4-45d1-86b1-b5b931f8e9da",
   "metadata": {},
   "outputs": [
    {
     "data": {
      "text/plain": [
       "True"
      ]
     },
     "execution_count": 51,
     "metadata": {},
     "output_type": "execute_result"
    }
   ],
   "source": [
    "(5 > 4) or (3 == 5)"
   ]
  },
  {
   "cell_type": "code",
   "execution_count": 55,
   "id": "abaa8959-f4e5-4e7a-bb31-a94b9bd26538",
   "metadata": {},
   "outputs": [
    {
     "data": {
      "text/plain": [
       "False"
      ]
     },
     "execution_count": 55,
     "metadata": {},
     "output_type": "execute_result"
    }
   ],
   "source": [
    "not ((5 > 4) or (3 == 5))"
   ]
  },
  {
   "cell_type": "code",
   "execution_count": 57,
   "id": "6c065201-b14a-4029-8f0f-f8452705e302",
   "metadata": {},
   "outputs": [
    {
     "data": {
      "text/plain": [
       "False"
      ]
     },
     "execution_count": 57,
     "metadata": {},
     "output_type": "execute_result"
    }
   ],
   "source": [
    "(True and True) and (True == False)"
   ]
  },
  {
   "cell_type": "code",
   "execution_count": 59,
   "id": "cf4edf6c-97d1-4492-b0a1-c45a51ce9b2e",
   "metadata": {},
   "outputs": [
    {
     "data": {
      "text/plain": [
       "True"
      ]
     },
     "execution_count": 59,
     "metadata": {},
     "output_type": "execute_result"
    }
   ],
   "source": [
    "(not False) or (not True)"
   ]
  },
  {
   "cell_type": "markdown",
   "id": "0edd901e-1dd3-4704-85a9-e453738dbf2c",
   "metadata": {},
   "source": [
    "-----------------------------------"
   ]
  },
  {
   "cell_type": "markdown",
   "id": "b6a53ca0-fa89-4ac3-8240-866c136248c6",
   "metadata": {},
   "source": [
    "5. What are the six comparison operators?"
   ]
  },
  {
   "cell_type": "raw",
   "id": "87d876ce-8e5f-404e-b058-b8b747efc5aa",
   "metadata": {},
   "source": [
    "Ans: Comparsion operators:\n",
    "        1) >\n",
    "        2) <\n",
    "        3) >=\n",
    "        4) <=\n",
    "        5) ==\n",
    "        6) !="
   ]
  },
  {
   "cell_type": "markdown",
   "id": "07137e07-fe7b-44c0-a887-7720e6c8be02",
   "metadata": {},
   "source": [
    "--------------"
   ]
  },
  {
   "cell_type": "markdown",
   "id": "0d3db203-b444-4e9e-bf4d-a990cb1782e4",
   "metadata": {},
   "source": [
    "6. How do you tell the difference between the equal to and assignment operators?Describe a\n",
    "condition and when you would use one."
   ]
  },
  {
   "cell_type": "raw",
   "id": "341cc7ca-8192-4857-8195-04dc5029400a",
   "metadata": {},
   "source": [
    "Ans: Equal operator (==) is used to compare two values and result it in a Boolean value. \n",
    "     While Assigment operator (=) is used to stores a value into a variable."
   ]
  },
  {
   "cell_type": "code",
   "execution_count": 77,
   "id": "705e1db8-9622-4a12-b763-21f1145e5de3",
   "metadata": {},
   "outputs": [
    {
     "name": "stdout",
     "output_type": "stream",
     "text": [
      "False\n"
     ]
    }
   ],
   "source": [
    "num = 5           # Example for assigment operator\n",
    "if num == 10:     # Example for equal operator\n",
    "    print(True)\n",
    "else:\n",
    "    print(False)"
   ]
  },
  {
   "cell_type": "markdown",
   "id": "2d3b283d-fc4d-49e5-87d8-18a1132cf7cd",
   "metadata": {},
   "source": [
    "-------------"
   ]
  },
  {
   "cell_type": "markdown",
   "id": "93d5c5fd-217c-4fde-a641-162549b9b248",
   "metadata": {},
   "source": [
    "7. Identify the three blocks in this code:\n",
    "spam = 0\n",
    "if spam == 10:\n",
    "print(&#39;eggs&#39;)\n",
    "if spam &gt; 5:\n",
    "print(&#39;bacon&#39;)\n",
    "else:\n",
    "print(&#39;ham&#39;)\n",
    "print(&#39;spam&#39;)\n",
    "print(&#39;spam&#39;)"
   ]
  },
  {
   "cell_type": "code",
   "execution_count": 79,
   "id": "3a7b1df3-b215-4e0e-9340-c66725b4e07a",
   "metadata": {},
   "outputs": [
    {
     "name": "stdout",
     "output_type": "stream",
     "text": [
      "ham\n",
      "spam\n",
      "spam\n"
     ]
    }
   ],
   "source": [
    "spam = 0\n",
    "if spam == 10:\n",
    "    print('eggs')     # Block 1\n",
    "if spam > 5:\n",
    "    print('bacon')    # Block 2\n",
    "else:\n",
    "    print('ham')      # Block 3\n",
    "print('spam')\n",
    "print('spam')"
   ]
  },
  {
   "cell_type": "markdown",
   "id": "8ebfa0d3-27c6-497e-a685-34e50fea0764",
   "metadata": {},
   "source": [
    "-------------------"
   ]
  },
  {
   "cell_type": "markdown",
   "id": "3c5abf84-2c8b-4f24-8e1a-f14f96e800f7",
   "metadata": {},
   "source": [
    "8. Write code that prints Hello if 1 is stored in spam, prints Howdy if 2 is stored in spam, and prints\n",
    "Greetings! if anything else is stored in spam."
   ]
  },
  {
   "cell_type": "code",
   "execution_count": 89,
   "id": "1ac54863-b7ea-4d37-8619-6422c829ce10",
   "metadata": {},
   "outputs": [
    {
     "name": "stdout",
     "output_type": "stream",
     "text": [
      "Greetings!\n"
     ]
    }
   ],
   "source": [
    "spam = 3\n",
    "\n",
    "if spam == 1:\n",
    "    print(\"Hello\")\n",
    "elif spam == 2:\n",
    "    print(\"Howdy\")\n",
    "else:\n",
    "    print(\"Greetings!\")"
   ]
  },
  {
   "cell_type": "markdown",
   "id": "c78cf21e-1699-4d42-9a73-976442938b2b",
   "metadata": {},
   "source": [
    "----------------"
   ]
  },
  {
   "cell_type": "markdown",
   "id": "4f037d90-f38a-4f21-895b-a280b5ebcccb",
   "metadata": {},
   "source": [
    "9. If your programme is stuck in an endless loop, what keys you’ll press?"
   ]
  },
  {
   "cell_type": "raw",
   "id": "ee8ff48f-a538-4d3c-9ae3-722bbabc5a72",
   "metadata": {},
   "source": [
    "Ans: Will press the \"Interupt the kernel\" to stop the endless loop in the jupyter notebook."
   ]
  },
  {
   "cell_type": "markdown",
   "id": "c0f3cd60-afd9-4784-b72e-a05a22abe81b",
   "metadata": {},
   "source": [
    "-----------------------"
   ]
  },
  {
   "cell_type": "markdown",
   "id": "794917a6-ad92-4206-9e69-75c5d874b12c",
   "metadata": {},
   "source": [
    "10. How can you tell the difference between break and continue?"
   ]
  },
  {
   "cell_type": "raw",
   "id": "d0e91124-fe69-46a7-9b95-8d046af04b39",
   "metadata": {},
   "source": [
    "Ans: \"break\" statement terminates the entire loop iteration, whereas the \"continue\" statement skips the current iteration."
   ]
  },
  {
   "cell_type": "markdown",
   "id": "2890c2a2-93a0-4c4d-aa76-f1be611356e7",
   "metadata": {},
   "source": [
    "------------"
   ]
  },
  {
   "cell_type": "markdown",
   "id": "1f6a5f3c-051c-4ed0-97c4-d36e4e926aee",
   "metadata": {},
   "source": [
    "11. In a for loop, what is the difference between range(10), range(0, 10), and range(0, 10, 1)?"
   ]
  },
  {
   "cell_type": "raw",
   "id": "8df9d01e-8b71-4025-b0b3-378fa535ce6a",
   "metadata": {},
   "source": [
    "Ans: In a for loop, there is no functional difference between range(10), range(0, 10) and range(0, 10, 1). Each one generates the sequence of numbers from 0 to 9. All three will produce the same output when used in a for loop or when listed."
   ]
  },
  {
   "cell_type": "code",
   "execution_count": 105,
   "id": "9260db64-4124-41ae-a24b-7a1bee0a7cd2",
   "metadata": {},
   "outputs": [
    {
     "data": {
      "text/plain": [
       "[0, 1, 2, 3, 4, 5, 6, 7, 8, 9]"
      ]
     },
     "execution_count": 105,
     "metadata": {},
     "output_type": "execute_result"
    }
   ],
   "source": [
    "list(range(10))"
   ]
  },
  {
   "cell_type": "code",
   "execution_count": 107,
   "id": "9918e217-27a5-415c-a068-ed76331b89aa",
   "metadata": {},
   "outputs": [
    {
     "data": {
      "text/plain": [
       "[0, 1, 2, 3, 4, 5, 6, 7, 8, 9]"
      ]
     },
     "execution_count": 107,
     "metadata": {},
     "output_type": "execute_result"
    }
   ],
   "source": [
    "list(range(0, 10))"
   ]
  },
  {
   "cell_type": "code",
   "execution_count": 109,
   "id": "7317dff3-9af1-4ea8-a569-a097f5bcb257",
   "metadata": {},
   "outputs": [
    {
     "data": {
      "text/plain": [
       "[0, 1, 2, 3, 4, 5, 6, 7, 8, 9]"
      ]
     },
     "execution_count": 109,
     "metadata": {},
     "output_type": "execute_result"
    }
   ],
   "source": [
    "list(range(0, 10, 1))"
   ]
  },
  {
   "cell_type": "markdown",
   "id": "04c17ee2-f0b0-40e4-836d-c97f240afbfd",
   "metadata": {},
   "source": [
    "--------------------------------"
   ]
  },
  {
   "cell_type": "markdown",
   "id": "363121af-b781-49b9-9085-0e66e4e6499e",
   "metadata": {},
   "source": [
    "12. Write a short program that prints the numbers 1 to 10 using a for loop. Then write an equivalent\n",
    "program that prints the numbers 1 to 10 using a while loop."
   ]
  },
  {
   "cell_type": "code",
   "execution_count": 115,
   "id": "177148a1-0d25-4ec6-9829-acccb06c4fb0",
   "metadata": {},
   "outputs": [
    {
     "name": "stdout",
     "output_type": "stream",
     "text": [
      "1\n",
      "2\n",
      "3\n",
      "4\n",
      "5\n",
      "6\n",
      "7\n",
      "8\n",
      "9\n",
      "10\n"
     ]
    }
   ],
   "source": [
    "# For loop\n",
    "num = 10\n",
    "for i in range(1, num+1):\n",
    "    print(i)"
   ]
  },
  {
   "cell_type": "code",
   "execution_count": 121,
   "id": "1536e5bd-7bc3-4b76-a256-3262925fa488",
   "metadata": {},
   "outputs": [
    {
     "name": "stdout",
     "output_type": "stream",
     "text": [
      "1\n",
      "2\n",
      "3\n",
      "4\n",
      "5\n",
      "6\n",
      "7\n",
      "8\n",
      "9\n",
      "10\n"
     ]
    }
   ],
   "source": [
    "# While loop\n",
    "num = 1\n",
    "while num <= 10:\n",
    "    print(num)\n",
    "    num += 1"
   ]
  },
  {
   "cell_type": "markdown",
   "id": "ccbd3b3b-ddb7-4b92-b72d-148e1902daf1",
   "metadata": {},
   "source": [
    "----------------"
   ]
  },
  {
   "cell_type": "markdown",
   "id": "aba5d64d-bef0-4282-8be7-f9dedca86e34",
   "metadata": {},
   "source": [
    "13. If you had a function named bacon() inside a module named spam, how would you call it after\n",
    "importing spam?"
   ]
  },
  {
   "cell_type": "raw",
   "id": "224bed42-fd19-42d7-9120-fa84a7ba7ee3",
   "metadata": {},
   "source": [
    "Ans: import spam\n",
    "     spam.bacon()"
   ]
  },
  {
   "cell_type": "markdown",
   "id": "d9d32146-cb0e-4ddd-bde3-a996d51100ab",
   "metadata": {},
   "source": [
    "--------------------"
   ]
  },
  {
   "cell_type": "code",
   "execution_count": null,
   "id": "bcd488c6-33d2-477f-a92f-57fad95f94fb",
   "metadata": {},
   "outputs": [],
   "source": []
  }
 ],
 "metadata": {
  "kernelspec": {
   "display_name": "Python 3 (ipykernel)",
   "language": "python",
   "name": "python3"
  },
  "language_info": {
   "codemirror_mode": {
    "name": "ipython",
    "version": 3
   },
   "file_extension": ".py",
   "mimetype": "text/x-python",
   "name": "python",
   "nbconvert_exporter": "python",
   "pygments_lexer": "ipython3",
   "version": "3.12.4"
  }
 },
 "nbformat": 4,
 "nbformat_minor": 5
}
