{
 "cells": [
  {
   "cell_type": "markdown",
   "id": "01ab1a09-326e-412d-8e74-13a26ee2d8cc",
   "metadata": {},
   "source": [
    "1. What exactly is []?"
   ]
  },
  {
   "cell_type": "markdown",
   "id": "a45ef630-2b6f-4c9e-8a43-7de030b7246d",
   "metadata": {},
   "source": [
    "Ans: List, which contain no values"
   ]
  },
  {
   "cell_type": "markdown",
   "id": "e07ff480-ed2a-4223-bb50-dd2810dc5c6d",
   "metadata": {},
   "source": [
    "------------"
   ]
  },
  {
   "cell_type": "markdown",
   "id": "99fac50e-8b39-43e5-ab98-2f403f8bc996",
   "metadata": {},
   "source": [
    "2. In a list of values stored in a variable called spam, how would you assign the value &#39;hello&#39; as the\n",
    "third value? (Assume [2, 4, 6, 8, 10] are in spam.)"
   ]
  },
  {
   "cell_type": "code",
   "execution_count": 5,
   "id": "5836013a-a92e-4c60-ab2e-af622a7770dd",
   "metadata": {},
   "outputs": [],
   "source": [
    "spam = [2, 4, 6, 8, 10]"
   ]
  },
  {
   "cell_type": "code",
   "execution_count": 7,
   "id": "08b35fd8-4dd3-4b2c-9c5c-9b13b10a3fe2",
   "metadata": {},
   "outputs": [
    {
     "data": {
      "text/plain": [
       "[2, 4, 6, 8, 10]"
      ]
     },
     "execution_count": 7,
     "metadata": {},
     "output_type": "execute_result"
    }
   ],
   "source": [
    "spam"
   ]
  },
  {
   "cell_type": "code",
   "execution_count": 9,
   "id": "c1b8b86c-99ab-47f2-a249-7c0742e32d53",
   "metadata": {},
   "outputs": [],
   "source": [
    "spam[2] = \"hello\""
   ]
  },
  {
   "cell_type": "code",
   "execution_count": 11,
   "id": "27601981-c161-4c93-bde8-13cd6e251fb8",
   "metadata": {},
   "outputs": [
    {
     "data": {
      "text/plain": [
       "[2, 4, 'hello', 8, 10]"
      ]
     },
     "execution_count": 11,
     "metadata": {},
     "output_type": "execute_result"
    }
   ],
   "source": [
    "spam"
   ]
  },
  {
   "cell_type": "markdown",
   "id": "c768002c-4b1f-4520-af57-7abf6f7b0660",
   "metadata": {},
   "source": [
    "-----------"
   ]
  },
  {
   "cell_type": "markdown",
   "id": "854ab5d0-f4b0-45bd-b18c-a74f0ca74953",
   "metadata": {},
   "source": [
    "Let&#39;s pretend the spam includes the list [&#39;a&#39;, &#39;b&#39;, &#39;c&#39;, &#39;d&#39;] for the next three queries."
   ]
  },
  {
   "cell_type": "code",
   "execution_count": 17,
   "id": "e94fcd26-758e-4ce0-9d39-996c21535a29",
   "metadata": {},
   "outputs": [],
   "source": [
    "spam = ['a', 'b', 'c', 'd']"
   ]
  },
  {
   "cell_type": "markdown",
   "id": "1f37db98-e5a5-4e18-abdd-fd9c84e17cb9",
   "metadata": {},
   "source": [
    "---"
   ]
  },
  {
   "cell_type": "markdown",
   "id": "8ee0c8ae-39bd-482d-9b1c-293e0a929d28",
   "metadata": {},
   "source": [
    "3. What is the value of spam[int(int(&#39;3&#39; * 2) / 11)]?"
   ]
  },
  {
   "cell_type": "code",
   "execution_count": 19,
   "id": "cba0dd42-6ce7-4300-b101-b5b429cc85a9",
   "metadata": {},
   "outputs": [
    {
     "data": {
      "text/plain": [
       "'d'"
      ]
     },
     "execution_count": 19,
     "metadata": {},
     "output_type": "execute_result"
    }
   ],
   "source": [
    "spam[int(int('3' * 2) / 11)]"
   ]
  },
  {
   "cell_type": "markdown",
   "id": "af096858-8d5d-415d-a586-e2637e8be574",
   "metadata": {},
   "source": [
    "----"
   ]
  },
  {
   "cell_type": "markdown",
   "id": "72c6d7c5-cf13-4798-ae64-d9522605c319",
   "metadata": {},
   "source": [
    "4. What is the value of spam[-1]?"
   ]
  },
  {
   "cell_type": "code",
   "execution_count": 24,
   "id": "476c761a-632e-4760-a944-6397408f1e38",
   "metadata": {},
   "outputs": [
    {
     "data": {
      "text/plain": [
       "'d'"
      ]
     },
     "execution_count": 24,
     "metadata": {},
     "output_type": "execute_result"
    }
   ],
   "source": [
    "spam[-1]"
   ]
  },
  {
   "cell_type": "markdown",
   "id": "88e91af6-65f0-40f0-ba6e-6d9df58b305c",
   "metadata": {},
   "source": [
    "-------"
   ]
  },
  {
   "cell_type": "markdown",
   "id": "ffeac7bb-17ef-4534-9139-47570f4a6bc9",
   "metadata": {},
   "source": [
    "5. What is the value of spam[:2]?"
   ]
  },
  {
   "cell_type": "code",
   "execution_count": 28,
   "id": "f17ee781-9843-458f-b729-700cd1400258",
   "metadata": {},
   "outputs": [
    {
     "data": {
      "text/plain": [
       "['a', 'b']"
      ]
     },
     "execution_count": 28,
     "metadata": {},
     "output_type": "execute_result"
    }
   ],
   "source": [
    "spam[:2]"
   ]
  },
  {
   "cell_type": "code",
   "execution_count": null,
   "id": "b36dd564-9497-4b50-b333-329f8d4f0968",
   "metadata": {},
   "outputs": [],
   "source": []
  },
  {
   "cell_type": "markdown",
   "id": "0b779875-929d-454c-952a-be5723402b9f",
   "metadata": {},
   "source": [
    "--------"
   ]
  },
  {
   "cell_type": "markdown",
   "id": "1b2cfc4e-7bbe-48a6-91e1-368465dada10",
   "metadata": {},
   "source": [
    "Let&#39;s pretend bacon has the list [3.14, &#39;cat,&#39; 11, &#39;cat,&#39; True] for the next three questions."
   ]
  },
  {
   "cell_type": "code",
   "execution_count": 36,
   "id": "9d821cd9-3b5f-4724-8327-3515c31fc516",
   "metadata": {},
   "outputs": [],
   "source": [
    "bacon = [3.14, 'cat', 11, 'cat', True]"
   ]
  },
  {
   "cell_type": "markdown",
   "id": "b0c51ffb-3295-44dd-a878-bc037cf50a0a",
   "metadata": {},
   "source": [
    "-------"
   ]
  },
  {
   "cell_type": "markdown",
   "id": "0ec8160f-508f-4adc-8f63-304e7a2a1bf4",
   "metadata": {},
   "source": [
    "6. What is the value of bacon.index(&#39;cat&#39;)?"
   ]
  },
  {
   "cell_type": "code",
   "execution_count": 41,
   "id": "a951f7e1-06b7-4a46-8c91-45a160d2fa3d",
   "metadata": {},
   "outputs": [
    {
     "data": {
      "text/plain": [
       "1"
      ]
     },
     "execution_count": 41,
     "metadata": {},
     "output_type": "execute_result"
    }
   ],
   "source": [
    "bacon.index('cat')"
   ]
  },
  {
   "cell_type": "markdown",
   "id": "10c5aea0-ec53-41f4-a849-700963c045cf",
   "metadata": {},
   "source": [
    "-----"
   ]
  },
  {
   "cell_type": "markdown",
   "id": "e81eed2a-f381-43f2-8194-228fee270eda",
   "metadata": {},
   "source": [
    "7. How does bacon.append(99) change the look of the list value in bacon?"
   ]
  },
  {
   "cell_type": "code",
   "execution_count": 45,
   "id": "f280de48-7f74-4f11-8c3e-9514ae0deb01",
   "metadata": {},
   "outputs": [],
   "source": [
    "bacon.append(99)"
   ]
  },
  {
   "cell_type": "code",
   "execution_count": 47,
   "id": "1fee7b02-73ed-48f9-a916-ffaee0c5fbff",
   "metadata": {},
   "outputs": [
    {
     "data": {
      "text/plain": [
       "[3.14, 'cat', 11, 'cat', True, 99]"
      ]
     },
     "execution_count": 47,
     "metadata": {},
     "output_type": "execute_result"
    }
   ],
   "source": [
    "bacon"
   ]
  },
  {
   "cell_type": "markdown",
   "id": "aad9b204-c428-4a49-8635-8df1736ca9c1",
   "metadata": {},
   "source": [
    "----"
   ]
  },
  {
   "cell_type": "markdown",
   "id": "50337c52-d2c1-46b7-a41c-0ead50b18b5e",
   "metadata": {},
   "source": [
    "8. How does bacon.remove(&#39;cat&#39;) change the look of the list in bacon?"
   ]
  },
  {
   "cell_type": "code",
   "execution_count": 52,
   "id": "fa583f9f-31b4-4af4-9c36-a156d5f37c24",
   "metadata": {},
   "outputs": [],
   "source": [
    "bacon.remove('cat')"
   ]
  },
  {
   "cell_type": "code",
   "execution_count": 54,
   "id": "44348758-9dac-4e1e-9a4e-6073c644f271",
   "metadata": {},
   "outputs": [
    {
     "data": {
      "text/plain": [
       "[3.14, 11, 'cat', True, 99]"
      ]
     },
     "execution_count": 54,
     "metadata": {},
     "output_type": "execute_result"
    }
   ],
   "source": [
    "bacon"
   ]
  },
  {
   "cell_type": "markdown",
   "id": "842c37c2-8fd2-4eec-8c05-4bd470eb0b9e",
   "metadata": {},
   "source": [
    "------------"
   ]
  },
  {
   "cell_type": "markdown",
   "id": "c482452a-56d1-469d-8860-ed48afb251f3",
   "metadata": {},
   "source": [
    "9. What are the list concatenation and list replication operators?"
   ]
  },
  {
   "cell_type": "code",
   "execution_count": 67,
   "id": "b4a49ab8-3486-41f5-a2f0-20dcbab07ba3",
   "metadata": {},
   "outputs": [
    {
     "name": "stdout",
     "output_type": "stream",
     "text": [
      "[1, 2, 3, 4]\n"
     ]
    }
   ],
   "source": [
    "# list concatenation\n",
    "\n",
    "a = [1, 2, 3]\n",
    "b = [4]\n",
    "\n",
    "both = a + b # '+' is list list concate\n",
    "print(both)"
   ]
  },
  {
   "cell_type": "code",
   "execution_count": 69,
   "id": "e45f17ff-a98b-4cec-9ae1-5f8cf2f24467",
   "metadata": {},
   "outputs": [
    {
     "name": "stdout",
     "output_type": "stream",
     "text": [
      "[1, 2, 3, 1, 2, 3, 1, 2, 3, 1, 2, 3]\n"
     ]
    }
   ],
   "source": [
    "# list replication\n",
    "\n",
    "a = [1, 2, 3]\n",
    "b = 4\n",
    "\n",
    "both = a * b # '*' is list replication\n",
    "print(both)"
   ]
  },
  {
   "cell_type": "markdown",
   "id": "8dab27a5-3163-405f-8af1-9660254ec467",
   "metadata": {},
   "source": [
    "--------------"
   ]
  },
  {
   "cell_type": "markdown",
   "id": "f8b4587c-44bc-46fe-a7c2-cb18656717a7",
   "metadata": {},
   "source": [
    "10. What is difference between the list methods append() and insert()?"
   ]
  },
  {
   "cell_type": "markdown",
   "id": "1f05cc55-71c1-44c7-8b8d-aa37ca86b462",
   "metadata": {},
   "source": [
    "append will be used to add the item at the end of the list, while insert will be used to add the item in any specific index"
   ]
  },
  {
   "cell_type": "code",
   "execution_count": 73,
   "id": "caed8351-39a6-458e-a4f9-7dcb8c360f60",
   "metadata": {},
   "outputs": [
    {
     "data": {
      "text/plain": [
       "[1, 2, 3]"
      ]
     },
     "execution_count": 73,
     "metadata": {},
     "output_type": "execute_result"
    }
   ],
   "source": [
    "a"
   ]
  },
  {
   "cell_type": "code",
   "execution_count": 75,
   "id": "ad95e53b-6124-4f50-b30e-06365b76b589",
   "metadata": {},
   "outputs": [],
   "source": [
    "a.append(4)"
   ]
  },
  {
   "cell_type": "code",
   "execution_count": 77,
   "id": "0117074f-1f3e-44c4-8674-34a2eb4e920c",
   "metadata": {},
   "outputs": [
    {
     "data": {
      "text/plain": [
       "[1, 2, 3, 4]"
      ]
     },
     "execution_count": 77,
     "metadata": {},
     "output_type": "execute_result"
    }
   ],
   "source": [
    "a"
   ]
  },
  {
   "cell_type": "code",
   "execution_count": null,
   "id": "78e26853-c113-43b8-a54c-b31bfd5546b3",
   "metadata": {},
   "outputs": [],
   "source": []
  },
  {
   "cell_type": "code",
   "execution_count": 82,
   "id": "1a2547ad-23af-46fc-acd3-1acf9261b325",
   "metadata": {},
   "outputs": [],
   "source": [
    "a.insert(0, 9)"
   ]
  },
  {
   "cell_type": "code",
   "execution_count": 84,
   "id": "ef58ad38-e8b3-40a8-b001-96a59cc87f83",
   "metadata": {},
   "outputs": [
    {
     "data": {
      "text/plain": [
       "[9, 1, 2, 3, 4]"
      ]
     },
     "execution_count": 84,
     "metadata": {},
     "output_type": "execute_result"
    }
   ],
   "source": [
    "a"
   ]
  },
  {
   "cell_type": "markdown",
   "id": "9c50f35e-3f66-4438-8afd-7953d8afbeca",
   "metadata": {},
   "source": [
    "--------"
   ]
  },
  {
   "cell_type": "markdown",
   "id": "9e3d02be-207c-4fb3-a6de-43a1895edeec",
   "metadata": {},
   "source": [
    "11. What are the two methods for removing items from a list?"
   ]
  },
  {
   "cell_type": "markdown",
   "id": "b4787953-a76a-4237-9575-538fbb443c0c",
   "metadata": {},
   "source": [
    "pop and remove methods can be used to remove items from a list. 'pop' requires index number of the item from the list to remove it, while 'remove' requires item itslef, it will be remove first occurence of that item in the list."
   ]
  },
  {
   "cell_type": "code",
   "execution_count": 89,
   "id": "235fbd4f-8bd4-4962-b144-1a381b116632",
   "metadata": {},
   "outputs": [
    {
     "data": {
      "text/plain": [
       "[9, 1, 2, 3, 4]"
      ]
     },
     "execution_count": 89,
     "metadata": {},
     "output_type": "execute_result"
    }
   ],
   "source": [
    "a"
   ]
  },
  {
   "cell_type": "code",
   "execution_count": 93,
   "id": "86edaa8e-e0fc-4e1e-a851-2328cb568673",
   "metadata": {},
   "outputs": [
    {
     "data": {
      "text/plain": [
       "9"
      ]
     },
     "execution_count": 93,
     "metadata": {},
     "output_type": "execute_result"
    }
   ],
   "source": [
    "a.pop(0)"
   ]
  },
  {
   "cell_type": "code",
   "execution_count": 95,
   "id": "734b5d16-7502-4383-ba41-8e5f3c0a3b9f",
   "metadata": {},
   "outputs": [
    {
     "data": {
      "text/plain": [
       "[1, 2, 3, 4]"
      ]
     },
     "execution_count": 95,
     "metadata": {},
     "output_type": "execute_result"
    }
   ],
   "source": [
    "a"
   ]
  },
  {
   "cell_type": "code",
   "execution_count": null,
   "id": "15125ae1-565f-48b8-a18a-a3ab463c1264",
   "metadata": {},
   "outputs": [],
   "source": []
  },
  {
   "cell_type": "code",
   "execution_count": 97,
   "id": "758b3b0b-65f9-41b9-abd5-44c1eb0b82d9",
   "metadata": {},
   "outputs": [],
   "source": [
    "a.remove(4)"
   ]
  },
  {
   "cell_type": "markdown",
   "id": "deb69c15-3798-4e58-bf5c-16e6821e4934",
   "metadata": {},
   "source": [
    "a"
   ]
  },
  {
   "cell_type": "markdown",
   "id": "d5ce8d26-7312-418f-bde3-e1472102a8b7",
   "metadata": {},
   "source": [
    "----------"
   ]
  },
  {
   "cell_type": "markdown",
   "id": "7a905701-845a-4954-950f-0c2c9e80ceba",
   "metadata": {},
   "source": [
    "12. Describe how list values and string values are identical."
   ]
  },
  {
   "cell_type": "markdown",
   "id": "73b98012-c669-46dd-bab9-c40b14444994",
   "metadata": {},
   "source": [
    "Both can be used in len(), slicing, for loops, index() operations"
   ]
  },
  {
   "cell_type": "markdown",
   "id": "a6b1b81f-3018-44d5-a37d-1b6cf28778be",
   "metadata": {},
   "source": [
    "---"
   ]
  },
  {
   "cell_type": "markdown",
   "id": "7285f38c-8786-4dfc-a6a2-d93937618617",
   "metadata": {},
   "source": [
    "13. What&#39;s the difference between tuples and lists?"
   ]
  },
  {
   "cell_type": "markdown",
   "id": "8e6702ed-31ab-4350-887c-d47a787b4c0b",
   "metadata": {},
   "source": [
    "Tuples are immutable while lists are mutable"
   ]
  },
  {
   "cell_type": "markdown",
   "id": "b627155a-5252-4e6a-8a4b-00768f8e1717",
   "metadata": {},
   "source": [
    "Tuples are denoted as '()' while lists are denoted as '[]'"
   ]
  },
  {
   "cell_type": "markdown",
   "id": "6633ce86-050b-447e-8200-ef5384778544",
   "metadata": {},
   "source": [
    "-------"
   ]
  },
  {
   "cell_type": "markdown",
   "id": "f881d65b-5865-47e9-a391-4c63ad58569b",
   "metadata": {},
   "source": [
    "14. How do you type a tuple value that only contains the integer 42?"
   ]
  },
  {
   "cell_type": "code",
   "execution_count": 125,
   "id": "2475b1c9-c03e-45ef-94e9-be3ed2bacd6d",
   "metadata": {},
   "outputs": [],
   "source": [
    "t = (42,)  # should pass ',' after the value in parenthesis"
   ]
  },
  {
   "cell_type": "code",
   "execution_count": 127,
   "id": "8db4ffcf-d5ee-4901-ac54-847e2d5ed78e",
   "metadata": {},
   "outputs": [
    {
     "data": {
      "text/plain": [
       "tuple"
      ]
     },
     "execution_count": 127,
     "metadata": {},
     "output_type": "execute_result"
    }
   ],
   "source": [
    "type(t)"
   ]
  },
  {
   "cell_type": "markdown",
   "id": "54c59b10-a87c-4886-982f-3e1a83c427f2",
   "metadata": {},
   "source": [
    "-------"
   ]
  },
  {
   "cell_type": "markdown",
   "id": "b60ee59c-5217-486c-be74-72161cc97ef9",
   "metadata": {},
   "source": [
    "15. How do you get a list value&#39;s tuple form? How do you get a tuple value&#39;s list form?"
   ]
  },
  {
   "cell_type": "code",
   "execution_count": 131,
   "id": "ebabfdae-09d8-4327-a2fd-e745896ac38e",
   "metadata": {},
   "outputs": [],
   "source": [
    "t = (1, 2, \"ab\", \"bc\")"
   ]
  },
  {
   "cell_type": "code",
   "execution_count": 133,
   "id": "7e9da8c3-6e03-4eea-9d05-9bbc4e4bf06c",
   "metadata": {},
   "outputs": [
    {
     "data": {
      "text/plain": [
       "tuple"
      ]
     },
     "execution_count": 133,
     "metadata": {},
     "output_type": "execute_result"
    }
   ],
   "source": [
    "type(t)"
   ]
  },
  {
   "cell_type": "code",
   "execution_count": 137,
   "id": "566438ec-2091-4ed8-83b2-c21b6246a414",
   "metadata": {},
   "outputs": [],
   "source": [
    "# converting tuple to list\n",
    "\n",
    "l = list(t)"
   ]
  },
  {
   "cell_type": "code",
   "execution_count": 145,
   "id": "1828aefd-2458-41e7-87e7-c6d3b24b981c",
   "metadata": {},
   "outputs": [
    {
     "name": "stdout",
     "output_type": "stream",
     "text": [
      "[1, 2, 'ab', 'bc']\n"
     ]
    },
    {
     "data": {
      "text/plain": [
       "list"
      ]
     },
     "execution_count": 145,
     "metadata": {},
     "output_type": "execute_result"
    }
   ],
   "source": [
    "print(l)\n",
    "type(l)"
   ]
  },
  {
   "cell_type": "code",
   "execution_count": 143,
   "id": "85634c58-8276-4c8e-abc3-0388dee0babb",
   "metadata": {},
   "outputs": [
    {
     "data": {
      "text/plain": [
       "[1, 2, 'ab', 'bc']"
      ]
     },
     "execution_count": 143,
     "metadata": {},
     "output_type": "execute_result"
    }
   ],
   "source": [
    "l"
   ]
  },
  {
   "cell_type": "code",
   "execution_count": 147,
   "id": "2444e3fe-5283-4e03-82cb-a657f0dd1e56",
   "metadata": {},
   "outputs": [
    {
     "name": "stdout",
     "output_type": "stream",
     "text": [
      "(1, 2, 'ab', 'bc')\n"
     ]
    }
   ],
   "source": [
    "# converting list to tuple\n",
    "\n",
    "tp = tuple(l)\n",
    "\n",
    "print(tp)"
   ]
  },
  {
   "cell_type": "code",
   "execution_count": 149,
   "id": "09cf1942-28b8-4d35-9a99-f0c625f22b38",
   "metadata": {},
   "outputs": [
    {
     "data": {
      "text/plain": [
       "tuple"
      ]
     },
     "execution_count": 149,
     "metadata": {},
     "output_type": "execute_result"
    }
   ],
   "source": [
    "type(tp)"
   ]
  },
  {
   "cell_type": "markdown",
   "id": "bf44e37c-da15-4d13-abd6-6fa150f2a6db",
   "metadata": {},
   "source": [
    "---------"
   ]
  },
  {
   "cell_type": "markdown",
   "id": "e927f89b-6cb5-45a7-ab77-73d0bdeb8a81",
   "metadata": {},
   "source": [
    "16. Variables that &quot;contain&quot; list values are not necessarily lists themselves. Instead, what do they\n",
    "contain?"
   ]
  },
  {
   "cell_type": "markdown",
   "id": "078261eb-1101-40ee-a1eb-1600dbda371a",
   "metadata": {},
   "source": [
    "it is reference which is also known as pointer, where it holds the data in its memory pointing it to a variable"
   ]
  },
  {
   "cell_type": "markdown",
   "id": "d21a01ad-f1e7-452c-8ca8-174d144333d4",
   "metadata": {},
   "source": [
    "--------"
   ]
  },
  {
   "cell_type": "markdown",
   "id": "c59048ba-0fb7-484d-a825-bd46893c4685",
   "metadata": {},
   "source": [
    "17. How do you distinguish between copy.copy() and copy.deepcopy()?"
   ]
  },
  {
   "cell_type": "code",
   "execution_count": 156,
   "id": "938e9704-b9f1-4b32-8362-9b0e62f5bb24",
   "metadata": {},
   "outputs": [],
   "source": [
    "import copy"
   ]
  },
  {
   "cell_type": "code",
   "execution_count": 174,
   "id": "94e7eea1-b541-423e-b018-fd0e1074b2a1",
   "metadata": {},
   "outputs": [],
   "source": [
    "l = [[1, 2], [3, 4]]"
   ]
  },
  {
   "cell_type": "code",
   "execution_count": 176,
   "id": "f2494a02-203b-40db-a9c8-6e050892dd96",
   "metadata": {},
   "outputs": [],
   "source": [
    "a = copy.copy(l)"
   ]
  },
  {
   "cell_type": "code",
   "execution_count": 178,
   "id": "e6bb56cc-ea3c-4239-84a5-11f85f75d04c",
   "metadata": {},
   "outputs": [
    {
     "data": {
      "text/plain": [
       "[[1, 2], [3, 4]]"
      ]
     },
     "execution_count": 178,
     "metadata": {},
     "output_type": "execute_result"
    }
   ],
   "source": [
    "a"
   ]
  },
  {
   "cell_type": "code",
   "execution_count": 180,
   "id": "c6e92c9a-a9c6-41b4-ae47-8b8a1f903621",
   "metadata": {},
   "outputs": [],
   "source": [
    "a[0][0] = 4"
   ]
  },
  {
   "cell_type": "code",
   "execution_count": 186,
   "id": "4a4735df-ccac-475f-8aef-cf681024ff0b",
   "metadata": {},
   "outputs": [
    {
     "data": {
      "text/plain": [
       "[[4, 2], [3, 4]]"
      ]
     },
     "execution_count": 186,
     "metadata": {},
     "output_type": "execute_result"
    }
   ],
   "source": [
    "a # we have updated the value for first nested list"
   ]
  },
  {
   "cell_type": "code",
   "execution_count": null,
   "id": "3bdc7001-e1c2-4d1b-8ed0-d35e035e4398",
   "metadata": {},
   "outputs": [],
   "source": []
  },
  {
   "cell_type": "code",
   "execution_count": 188,
   "id": "cacdcd7c-5602-4e4c-97f0-8200f047a757",
   "metadata": {},
   "outputs": [
    {
     "data": {
      "text/plain": [
       "[[4, 2], [3, 4]]"
      ]
     },
     "execution_count": 188,
     "metadata": {},
     "output_type": "execute_result"
    }
   ],
   "source": [
    "l # It effected the first nested list, even we updated the values in variable a"
   ]
  },
  {
   "cell_type": "code",
   "execution_count": null,
   "id": "bd23e118-bb84-465f-a847-821660a396a2",
   "metadata": {},
   "outputs": [],
   "source": []
  },
  {
   "cell_type": "code",
   "execution_count": 190,
   "id": "77a46f12-7fd7-4bd8-840d-00d32808c36f",
   "metadata": {},
   "outputs": [],
   "source": [
    "b = copy.deepcopy(l)"
   ]
  },
  {
   "cell_type": "code",
   "execution_count": 192,
   "id": "aa3460ad-d21e-49f0-846f-4f3752d6d5b0",
   "metadata": {},
   "outputs": [
    {
     "data": {
      "text/plain": [
       "[[4, 2], [3, 4]]"
      ]
     },
     "execution_count": 192,
     "metadata": {},
     "output_type": "execute_result"
    }
   ],
   "source": [
    "b"
   ]
  },
  {
   "cell_type": "code",
   "execution_count": 194,
   "id": "826faef6-a3eb-42ed-ac1b-2ae8d7c22502",
   "metadata": {},
   "outputs": [],
   "source": [
    "b[0][0] = 1"
   ]
  },
  {
   "cell_type": "code",
   "execution_count": 200,
   "id": "1dedc342-9db8-4a3e-908b-72255af10012",
   "metadata": {},
   "outputs": [
    {
     "data": {
      "text/plain": [
       "[[1, 2], [3, 4]]"
      ]
     },
     "execution_count": 200,
     "metadata": {},
     "output_type": "execute_result"
    }
   ],
   "source": [
    "b # Now we updated value for first nested list"
   ]
  },
  {
   "cell_type": "code",
   "execution_count": null,
   "id": "ede0c212-2b03-4dd5-8357-5d076e47a0c9",
   "metadata": {},
   "outputs": [],
   "source": []
  },
  {
   "cell_type": "code",
   "execution_count": 202,
   "id": "d6627809-348c-4d61-b023-63a1d705c574",
   "metadata": {},
   "outputs": [
    {
     "data": {
      "text/plain": [
       "[[4, 2], [3, 4]]"
      ]
     },
     "execution_count": 202,
     "metadata": {},
     "output_type": "execute_result"
    }
   ],
   "source": [
    "l # Even after updating the value in first nested list of varialble 'b', it doesn't effected the original list 'l'"
   ]
  },
  {
   "cell_type": "code",
   "execution_count": null,
   "id": "9159f33a-ec94-4ede-8413-6644bf708c7a",
   "metadata": {},
   "outputs": [],
   "source": []
  }
 ],
 "metadata": {
  "kernelspec": {
   "display_name": "Python 3 (ipykernel)",
   "language": "python",
   "name": "python3"
  },
  "language_info": {
   "codemirror_mode": {
    "name": "ipython",
    "version": 3
   },
   "file_extension": ".py",
   "mimetype": "text/x-python",
   "name": "python",
   "nbconvert_exporter": "python",
   "pygments_lexer": "ipython3",
   "version": "3.12.4"
  }
 },
 "nbformat": 4,
 "nbformat_minor": 5
}
