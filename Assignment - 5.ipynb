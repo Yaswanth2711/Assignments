{
 "cells": [
  {
   "cell_type": "markdown",
   "id": "07db1d36-cd42-4ecd-a1e6-fbdd8de78138",
   "metadata": {},
   "source": [
    "1. What does an empty dictionary's code look like"
   ]
  },
  {
   "cell_type": "code",
   "execution_count": 7,
   "id": "067e1dde-eb26-4b3e-a265-982b156d5301",
   "metadata": {},
   "outputs": [
    {
     "name": "stdout",
     "output_type": "stream",
     "text": [
      "<class 'dict'>\n"
     ]
    }
   ],
   "source": [
    "d = {}\n",
    "\n",
    "print(type(d))"
   ]
  },
  {
   "cell_type": "markdown",
   "id": "4898d41e-4f4b-439a-a03c-4372e45ab0ab",
   "metadata": {},
   "source": [
    "-------"
   ]
  },
  {
   "cell_type": "markdown",
   "id": "6df3cbac-526f-4699-aed3-7bef2f322acb",
   "metadata": {},
   "source": [
    "2. What is the value of a dictionary value with the key 'foo' and the value 42?"
   ]
  },
  {
   "cell_type": "code",
   "execution_count": 11,
   "id": "295bcd09-979c-4771-8c63-f22e70e0847b",
   "metadata": {},
   "outputs": [],
   "source": [
    "d = {\"foo\": 42}"
   ]
  },
  {
   "cell_type": "code",
   "execution_count": 13,
   "id": "3bda9359-2f1c-4ca6-81b2-16d1c785736c",
   "metadata": {},
   "outputs": [
    {
     "data": {
      "text/plain": [
       "42"
      ]
     },
     "execution_count": 13,
     "metadata": {},
     "output_type": "execute_result"
    }
   ],
   "source": [
    "d[\"foo\"]"
   ]
  },
  {
   "cell_type": "markdown",
   "id": "f807277d-ffda-4fb9-aa4e-5d548061d12d",
   "metadata": {},
   "source": [
    "------"
   ]
  },
  {
   "cell_type": "markdown",
   "id": "792b2b03-b501-45e7-9364-e9bc7e2957d0",
   "metadata": {},
   "source": [
    "3. What is the most significant distinction between a dictionary and a list?"
   ]
  },
  {
   "cell_type": "markdown",
   "id": "86cab25b-8b09-40db-88fc-f80c0c6229c8",
   "metadata": {},
   "source": [
    "1. dict denoted as \"{}\" while list is denoted as \"[]\"\n",
    "2. dict has keys and values, while list has items\n",
    "3. dict values can be accessed through keys, while list items can be accessed through index operation"
   ]
  },
  {
   "cell_type": "markdown",
   "id": "a4f65c79-eaf7-43a7-b9e2-0a7b5c498a45",
   "metadata": {},
   "source": [
    "-----"
   ]
  },
  {
   "cell_type": "markdown",
   "id": "a0e5264c-500b-464d-ae94-d2e1ba7302d6",
   "metadata": {},
   "source": [
    "4. What happens if you try to access spam['foo'] if spam = {'bar': 100}"
   ]
  },
  {
   "cell_type": "code",
   "execution_count": 20,
   "id": "8705ccb4-2a8c-43ba-bfe1-bf2b9635fc0b",
   "metadata": {},
   "outputs": [],
   "source": [
    "spam = {'bar': 100}"
   ]
  },
  {
   "cell_type": "code",
   "execution_count": 24,
   "id": "ad28d60b-5212-4d60-b15d-fa9a7b506231",
   "metadata": {},
   "outputs": [
    {
     "ename": "KeyError",
     "evalue": "'foo'",
     "output_type": "error",
     "traceback": [
      "\u001b[1;31m---------------------------------------------------------------------------\u001b[0m",
      "\u001b[1;31mKeyError\u001b[0m                                  Traceback (most recent call last)",
      "Cell \u001b[1;32mIn[24], line 1\u001b[0m\n\u001b[1;32m----> 1\u001b[0m spam[\u001b[38;5;124m'\u001b[39m\u001b[38;5;124mfoo\u001b[39m\u001b[38;5;124m'\u001b[39m]\n",
      "\u001b[1;31mKeyError\u001b[0m: 'foo'"
     ]
    }
   ],
   "source": [
    "spam['foo'] # will get KeyError, since 'foo' is not exist in spam dict"
   ]
  },
  {
   "cell_type": "markdown",
   "id": "e5d72e44-8760-4bd3-a7d5-0144d03d79a2",
   "metadata": {},
   "source": [
    "-------------"
   ]
  },
  {
   "cell_type": "markdown",
   "id": "6358ddb0-5b5a-4f92-9488-af3796904adb",
   "metadata": {},
   "source": [
    "5. Difference between 'cat' in spam and 'cat' in spam.keys()"
   ]
  },
  {
   "cell_type": "code",
   "execution_count": 28,
   "id": "5024b8fe-34fe-471f-b90c-15c8fe88b789",
   "metadata": {},
   "outputs": [],
   "source": [
    "spam = {\"cat\": 1}"
   ]
  },
  {
   "cell_type": "code",
   "execution_count": 55,
   "id": "7cd09bf0-b083-4c84-9d75-5997fa4076ba",
   "metadata": {},
   "outputs": [
    {
     "data": {
      "text/plain": [
       "True"
      ]
     },
     "execution_count": 55,
     "metadata": {},
     "output_type": "execute_result"
    }
   ],
   "source": [
    "\"cat\" in spam  # it will check, if any keys of spam dict contains \"cat\""
   ]
  },
  {
   "cell_type": "code",
   "execution_count": 53,
   "id": "ce427d54-0108-4738-96ac-4b179d8d2e75",
   "metadata": {},
   "outputs": [
    {
     "data": {
      "text/plain": [
       "True"
      ]
     },
     "execution_count": 53,
     "metadata": {},
     "output_type": "execute_result"
    }
   ],
   "source": [
    "\"cat\" in spam.keys() # it will check, if any keys of spam dict contains \"cat\""
   ]
  },
  {
   "cell_type": "markdown",
   "id": "79dfec0c-d959-4138-b08f-55e0e244a599",
   "metadata": {},
   "source": [
    "Both works same"
   ]
  },
  {
   "cell_type": "markdown",
   "id": "147b5bed-7a11-4164-bb0a-92a09fce9b55",
   "metadata": {},
   "source": [
    "---------------"
   ]
  },
  {
   "cell_type": "markdown",
   "id": "1f88e8c0-cd4b-40e5-bb25-bc5e9dd20ca8",
   "metadata": {},
   "source": [
    "6. Difference between 'cat' in spam and 'cat' in spam.values()"
   ]
  },
  {
   "cell_type": "code",
   "execution_count": 37,
   "id": "ceb8fa6c-6010-4963-9f04-9a8d7f64fcb6",
   "metadata": {},
   "outputs": [
    {
     "data": {
      "text/plain": [
       "{'cat': 1}"
      ]
     },
     "execution_count": 37,
     "metadata": {},
     "output_type": "execute_result"
    }
   ],
   "source": [
    "spam"
   ]
  },
  {
   "cell_type": "code",
   "execution_count": 49,
   "id": "1a2021e3-13d8-4690-aa4b-76befd221889",
   "metadata": {},
   "outputs": [
    {
     "data": {
      "text/plain": [
       "True"
      ]
     },
     "execution_count": 49,
     "metadata": {},
     "output_type": "execute_result"
    }
   ],
   "source": [
    "'cat' in  spam # it will check, if any keys of spam dict contains \"cat\""
   ]
  },
  {
   "cell_type": "code",
   "execution_count": 43,
   "id": "9209d261-e095-4f12-a527-0fabc73512f8",
   "metadata": {},
   "outputs": [
    {
     "data": {
      "text/plain": [
       "False"
      ]
     },
     "execution_count": 43,
     "metadata": {},
     "output_type": "execute_result"
    }
   ],
   "source": [
    "'cat' in spam.values()  # it will check, if any values of spam dict contains \"cat\""
   ]
  },
  {
   "cell_type": "markdown",
   "id": "21cbeca5-b425-40e5-8891-8618a5433a6b",
   "metadata": {},
   "source": [
    "------"
   ]
  },
  {
   "cell_type": "markdown",
   "id": "3f52c427-5baa-4dee-bf86-b57e6ec6f1fd",
   "metadata": {},
   "source": [
    "7. What is a shortcut for the following code?\n",
    "        if &#39;color&#39; not in spam:\n",
    "        spam[&#39;color&#39;] = &#39;black&#39;"
   ]
  },
  {
   "cell_type": "code",
   "execution_count": 59,
   "id": "939fa813-b3fb-4ac2-9aa2-20cb555bcd76",
   "metadata": {},
   "outputs": [
    {
     "data": {
      "text/plain": [
       "'black'"
      ]
     },
     "execution_count": 59,
     "metadata": {},
     "output_type": "execute_result"
    }
   ],
   "source": [
    "spam.setdefault('color', 'black') #we can use \"setdefault\" method from dict, it will update the items, if it is not exist"
   ]
  },
  {
   "cell_type": "code",
   "execution_count": 61,
   "id": "22b97582-cda0-497f-a797-ae893070667d",
   "metadata": {},
   "outputs": [
    {
     "data": {
      "text/plain": [
       "{'cat': 1, 'color': 'black'}"
      ]
     },
     "execution_count": 61,
     "metadata": {},
     "output_type": "execute_result"
    }
   ],
   "source": [
    "spam"
   ]
  },
  {
   "cell_type": "code",
   "execution_count": 67,
   "id": "64b736cb-2877-407a-a68a-e7f4c6df4f47",
   "metadata": {},
   "outputs": [
    {
     "data": {
      "text/plain": [
       "1"
      ]
     },
     "execution_count": 67,
     "metadata": {},
     "output_type": "execute_result"
    }
   ],
   "source": [
    "spam.setdefault('cat', 'white') #it will not if item is already exist"
   ]
  },
  {
   "cell_type": "code",
   "execution_count": 69,
   "id": "007c0c2c-1221-451e-9805-c1168c92e540",
   "metadata": {},
   "outputs": [
    {
     "data": {
      "text/plain": [
       "{'cat': 1, 'color': 'black'}"
      ]
     },
     "execution_count": 69,
     "metadata": {},
     "output_type": "execute_result"
    }
   ],
   "source": [
    "spam"
   ]
  },
  {
   "cell_type": "markdown",
   "id": "7dc71ca4-aeb1-4c84-9e9c-50d55d8f72c7",
   "metadata": {},
   "source": [
    "--------"
   ]
  },
  {
   "cell_type": "markdown",
   "id": "a0b4a006-865b-4cff-b88c-89009ee63ac8",
   "metadata": {},
   "source": [
    "8. How do you &quot;pretty print&quot; dictionary values using which module and function?"
   ]
  },
  {
   "cell_type": "code",
   "execution_count": 73,
   "id": "ad8f7635-66ba-4308-9413-294afce26b7c",
   "metadata": {},
   "outputs": [
    {
     "name": "stdout",
     "output_type": "stream",
     "text": [
      "{'age': 30, 'hobbies': ['reading', 'cycling'], 'name': 'Alice'}\n"
     ]
    }
   ],
   "source": [
    "import pprint\n",
    "\n",
    "data = {'name': 'Alice', 'age': 30, 'hobbies': ['reading', 'cycling']}\n",
    "pprint.pprint(data)"
   ]
  },
  {
   "cell_type": "code",
   "execution_count": null,
   "id": "a7f2292a-ef9f-4c20-8402-986394b32082",
   "metadata": {},
   "outputs": [],
   "source": []
  }
 ],
 "metadata": {
  "kernelspec": {
   "display_name": "Python 3 (ipykernel)",
   "language": "python",
   "name": "python3"
  },
  "language_info": {
   "codemirror_mode": {
    "name": "ipython",
    "version": 3
   },
   "file_extension": ".py",
   "mimetype": "text/x-python",
   "name": "python",
   "nbconvert_exporter": "python",
   "pygments_lexer": "ipython3",
   "version": "3.12.4"
  }
 },
 "nbformat": 4,
 "nbformat_minor": 5
}
