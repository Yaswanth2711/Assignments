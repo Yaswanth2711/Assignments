{
 "cells": [
  {
   "cell_type": "markdown",
   "id": "07db1d36-cd42-4ecd-a1e6-fbdd8de78138",
   "metadata": {},
   "source": [
    "1. What does an empty dictionary's code look like"
   ]
  },
  {
   "cell_type": "code",
   "execution_count": 7,
   "id": "067e1dde-eb26-4b3e-a265-982b156d5301",
   "metadata": {},
   "outputs": [
    {
     "name": "stdout",
     "output_type": "stream",
     "text": [
      "<class 'dict'>\n"
     ]
    }
   ],
   "source": [
    "d = {}\n",
    "\n",
    "print(type(d))"
   ]
  },
  {
   "cell_type": "markdown",
   "id": "4898d41e-4f4b-439a-a03c-4372e45ab0ab",
   "metadata": {},
   "source": [
    "-------"
   ]
  },
  {
   "cell_type": "markdown",
   "id": "6df3cbac-526f-4699-aed3-7bef2f322acb",
   "metadata": {},
   "source": [
    "2. What is the value of a dictionary value with the key 'foo' and the value 42?"
   ]
  },
  {
   "cell_type": "code",
   "execution_count": 11,
   "id": "295bcd09-979c-4771-8c63-f22e70e0847b",
   "metadata": {},
   "outputs": [],
   "source": [
    "d = {\"foo\": 42}"
   ]
  },
  {
   "cell_type": "code",
   "execution_count": 13,
   "id": "3bda9359-2f1c-4ca6-81b2-16d1c785736c",
   "metadata": {},
   "outputs": [
    {
     "data": {
      "text/plain": [
       "42"
      ]
     },
     "execution_count": 13,
     "metadata": {},
     "output_type": "execute_result"
    }
   ],
   "source": [
    "d[\"foo\"]"
   ]
  },
  {
   "cell_type": "markdown",
   "id": "f807277d-ffda-4fb9-aa4e-5d548061d12d",
   "metadata": {},
   "source": [
    "------"
   ]
  },
  {
   "cell_type": "markdown",
   "id": "792b2b03-b501-45e7-9364-e9bc7e2957d0",
   "metadata": {},
   "source": [
    "3. What is the most significant distinction between a dictionary and a list?"
   ]
  },
  {
   "cell_type": "raw",
   "id": "d26ef532-fce6-42bf-8cec-7bdff709aa49",
   "metadata": {},
   "source": [
    "1. dict denoted as \"{}\" while list is denoted as \"[]\"\n",
    "2. dict has keys and values, while list has items\n",
    "3. dict values can be accessed through keys, while list items can be accessed through index operation"
   ]
  },
  {
   "cell_type": "markdown",
   "id": "a4f65c79-eaf7-43a7-b9e2-0a7b5c498a45",
   "metadata": {},
   "source": [
    "-----"
   ]
  },
  {
   "cell_type": "code",
   "execution_count": null,
   "id": "11c4e74f-a9b3-43a6-a55f-599a6104b9bd",
   "metadata": {},
   "outputs": [],
   "source": []
  }
 ],
 "metadata": {
  "kernelspec": {
   "display_name": "Python 3 (ipykernel)",
   "language": "python",
   "name": "python3"
  },
  "language_info": {
   "codemirror_mode": {
    "name": "ipython",
    "version": 3
   },
   "file_extension": ".py",
   "mimetype": "text/x-python",
   "name": "python",
   "nbconvert_exporter": "python",
   "pygments_lexer": "ipython3",
   "version": "3.12.4"
  }
 },
 "nbformat": 4,
 "nbformat_minor": 5
}
